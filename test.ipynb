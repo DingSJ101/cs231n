{
 "cells": [
  {
   "cell_type": "code",
   "execution_count": 4,
   "metadata": {},
   "outputs": [
    {
     "name": "stdout",
     "output_type": "stream",
     "text": [
      "[[ 0  1  2  3]\n",
      " [ 4  5  6  7]\n",
      " [ 8  9 10 11]\n",
      " [12 13 14 15]]\n",
      "[3 3 3 3]\n",
      "[12 13 14 15]\n",
      "[3 3 3 3]\n",
      "[ 3  7 11 15]\n"
     ]
    }
   ],
   "source": [
    "import numpy as np\n",
    "\n",
    "a = np.arange(16)\n",
    "b = a.reshape((4,4))\n",
    "print(b)\n",
    "# print(b[:,1])\n",
    "print(b.argmax(0))\n",
    "print(b.max(0))\n",
    "\n",
    "print(b.argmax(1))\n",
    "print(b.max(1))\n"
   ]
  },
  {
   "cell_type": "code",
   "execution_count": 2,
   "metadata": {},
   "outputs": [
    {
     "data": {
      "text/plain": [
       "(array([ 0,  1,  2,  3,  4,  5,  6,  7,  8,  9, 10, 11, 12, 13, 14, 15]),\n",
       " array([[ 0,  1,  2,  3],\n",
       "        [ 4,  5,  6,  7],\n",
       "        [ 8,  9, 10, 11],\n",
       "        [12, 13, 14, 15]]))"
      ]
     },
     "execution_count": 2,
     "metadata": {},
     "output_type": "execute_result"
    }
   ],
   "source": [
    "a,b"
   ]
  },
  {
   "cell_type": "code",
   "execution_count": 4,
   "metadata": {},
   "outputs": [
    {
     "name": "stdout",
     "output_type": "stream",
     "text": [
      "[[ 0  1  2  3]\n",
      " [ 4  5  6  7]\n",
      " [ 8  9 10 11]\n",
      " [12 13 14 15]]\n",
      "[[ 6]\n",
      " [22]\n",
      " [38]\n",
      " [54]]\n",
      "[[24]\n",
      " [28]\n",
      " [32]\n",
      " [36]]\n",
      "[[ 6]\n",
      " [22]\n",
      " [38]\n",
      " [54]]\n"
     ]
    }
   ],
   "source": [
    "print(b)\n",
    "print(np.sum(b, axis=1, keepdims=True))\n",
    "print(np.sum(b, axis=0, keepdims=True).T)\n",
    "print(np.sum(b, axis=1, keepdims=True))"
   ]
  },
  {
   "cell_type": "code",
   "execution_count": 5,
   "metadata": {},
   "outputs": [],
   "source": [
    "index_max = b.argmax() # 15\n",
    "index_max_axis_1 = b.argmax(1) # array([3, 3, 3, 3]),按列取最大值索引"
   ]
  },
  {
   "cell_type": "code",
   "execution_count": 6,
   "metadata": {},
   "outputs": [
    {
     "name": "stdout",
     "output_type": "stream",
     "text": [
      "[0 0 0 2 1 1 1 1 2]\n",
      "[3 4 2]\n",
      "1\n",
      "4\n"
     ]
    }
   ],
   "source": [
    "import numpy as np\n",
    "a =np.array([0,0,0,2,1,1,1,1,2])\n",
    "print(a)\n",
    "c = a + 1\n",
    "print(np.bincount(a))\n",
    "print(np.bincount(a).argmax())\n",
    "print(np.bincount(a)[np.bincount(a).argmax()])\n",
    "\n",
    "# print(np.bincount(c))\n",
    "# print(np.bincount(c).argmax())\n"
   ]
  },
  {
   "cell_type": "code",
   "execution_count": 7,
   "metadata": {},
   "outputs": [
    {
     "name": "stdout",
     "output_type": "stream",
     "text": [
      "[1 4 5]\n"
     ]
    }
   ],
   "source": [
    "import numpy as np \n",
    " \n",
    "x = np.array([[1,  2],  [3,  4],  [5,  6]]) \n",
    "y = x[[0,1,2],  [0,1,0]]  \n",
    "print (y)"
   ]
  },
  {
   "cell_type": "code",
   "execution_count": 8,
   "metadata": {},
   "outputs": [
    {
     "data": {
      "text/plain": [
       "array([[1, 2],\n",
       "       [3, 4],\n",
       "       [5, 6]])"
      ]
     },
     "execution_count": 8,
     "metadata": {},
     "output_type": "execute_result"
    }
   ],
   "source": [
    "x"
   ]
  },
  {
   "cell_type": "code",
   "execution_count": 9,
   "metadata": {},
   "outputs": [
    {
     "name": "stdout",
     "output_type": "stream",
     "text": [
      "[[1 2 1]\n",
      " [3 4 3]\n",
      " [5 6 5]]\n"
     ]
    }
   ],
   "source": [
    "y = x[...,  [0,1,0]]  \n",
    "print (y)"
   ]
  },
  {
   "cell_type": "code",
   "execution_count": 13,
   "metadata": {},
   "outputs": [
    {
     "name": "stdout",
     "output_type": "stream",
     "text": [
      "[[ 0  1  2  3  4]\n",
      " [ 5  6  7  8  9]\n",
      " [10 11 12 13 14]\n",
      " [15 16 17 18 19]\n",
      " [20 21 22 23 24]\n",
      " [25 26 27 28 29]\n",
      " [30 31 32 33 34]\n",
      " [35 36 37 38 39]] [[ 0  1  2  3  4]\n",
      " [ 5  6  7  8  9]\n",
      " [10 11 12 13 14]\n",
      " [15 16 17 18 19]]\n"
     ]
    }
   ],
   "source": [
    "x = np.arange(40).reshape((8,5))\n",
    "y = np.arange(20).reshape((4,5))\n",
    "print(x,y)"
   ]
  },
  {
   "cell_type": "code",
   "execution_count": 14,
   "metadata": {},
   "outputs": [
    {
     "data": {
      "text/plain": [
       "array([[  30,   80,  130,  180],\n",
       "       [  80,  255,  430,  605],\n",
       "       [ 130,  430,  730, 1030],\n",
       "       [ 180,  605, 1030, 1455],\n",
       "       [ 230,  780, 1330, 1880],\n",
       "       [ 280,  955, 1630, 2305],\n",
       "       [ 330, 1130, 1930, 2730],\n",
       "       [ 380, 1305, 2230, 3155]])"
      ]
     },
     "execution_count": 14,
     "metadata": {},
     "output_type": "execute_result"
    }
   ],
   "source": [
    "x.dot(y.T)"
   ]
  },
  {
   "cell_type": "code",
   "execution_count": 15,
   "metadata": {},
   "outputs": [
    {
     "data": {
      "text/plain": [
       "array([[  30,   80,  130,  180],\n",
       "       [  80,  255,  430,  605],\n",
       "       [ 130,  430,  730, 1030],\n",
       "       [ 180,  605, 1030, 1455],\n",
       "       [ 230,  780, 1330, 1880],\n",
       "       [ 280,  955, 1630, 2305],\n",
       "       [ 330, 1130, 1930, 2730],\n",
       "       [ 380, 1305, 2230, 3155]])"
      ]
     },
     "execution_count": 15,
     "metadata": {},
     "output_type": "execute_result"
    }
   ],
   "source": [
    "x@y.T"
   ]
  },
  {
   "cell_type": "code",
   "execution_count": 16,
   "metadata": {},
   "outputs": [
    {
     "data": {
      "text/plain": [
       "[array([[0, 1, 2]]),\n",
       " array([[3, 4, 5]]),\n",
       " array([[6, 7, 8]]),\n",
       " array([[ 9, 10, 11]]),\n",
       " array([[12, 13, 14]])]"
      ]
     },
     "execution_count": 16,
     "metadata": {},
     "output_type": "execute_result"
    }
   ],
   "source": [
    "a = np.arange(15).reshape((5,3))\n",
    "l = np.split(a,5)\n",
    "l"
   ]
  },
  {
   "cell_type": "code",
   "execution_count": 20,
   "metadata": {},
   "outputs": [
    {
     "name": "stdout",
     "output_type": "stream",
     "text": [
      "\n",
      "[[0 1 2]]\n",
      "[[0 1 2]] [[3 4 5]]\n",
      "[[0 1 2]] [[3 4 5]] [[6 7 8]]\n",
      "[[0 1 2]] [[3 4 5]] [[6 7 8]] [[ 9 10 11]]\n"
     ]
    }
   ],
   "source": [
    "for i in range(5):\n",
    "    c = l[i]\n",
    "    # d = np.concatenate(*l[0:i],*l[i+1,5])\n",
    "    # print(c,d)\n",
    "    print(*l[0:i])"
   ]
  },
  {
   "cell_type": "code",
   "execution_count": 11,
   "metadata": {},
   "outputs": [
    {
     "name": "stdout",
     "output_type": "stream",
     "text": [
      "[[1. 1. 1. 1. 1.]\n",
      " [1. 1. 1. 1. 1.]\n",
      " [1. 1. 1. 1. 1.]]\n",
      "[[0 1]\n",
      " [2 3]\n",
      " [4 5]\n",
      " [6 7]\n",
      " [8 9]]\n"
     ]
    }
   ],
   "source": [
    "import numpy as np\n",
    "x= np.ones((3,5))\n",
    "y = np.arange(10).reshape((5,2))\n",
    "print(x)\n",
    "print(y)\n"
   ]
  },
  {
   "cell_type": "code",
   "execution_count": 21,
   "metadata": {},
   "outputs": [
    {
     "data": {
      "text/plain": [
       "array([2, 3])"
      ]
     },
     "execution_count": 21,
     "metadata": {},
     "output_type": "execute_result"
    }
   ],
   "source": [
    "c = x.dot(y)\n",
    "c\n",
    "y[1].reshape(2)\n"
   ]
  },
  {
   "cell_type": "markdown",
   "metadata": {},
   "source": [
    "# 矩阵乘法\n",
    "## X.dot(W)"
   ]
  },
  {
   "cell_type": "code",
   "execution_count": 1,
   "metadata": {},
   "outputs": [
    {
     "name": "stdout",
     "output_type": "stream",
     "text": [
      "[[50. 55. 60. 65. 70.]\n",
      " [50. 55. 60. 65. 70.]\n",
      " [50. 55. 60. 65. 70.]\n",
      " [50. 55. 60. 65. 70.]\n",
      " [50. 55. 60. 65. 70.]]\n",
      "[[50. 55. 60. 65. 70.]\n",
      " [50. 55. 60. 65. 70.]\n",
      " [50. 55. 60. 65. 70.]\n",
      " [50. 55. 60. 65. 70.]\n",
      " [50. 55. 60. 65. 70.]]\n",
      "[[ 0.  1.  2.  3.  4.]\n",
      " [ 5.  6.  7.  8.  9.]\n",
      " [10. 11. 12. 13. 14.]\n",
      " [15. 16. 17. 18. 19.]\n",
      " [20. 21. 22. 23. 24.]]\n"
     ]
    }
   ],
   "source": [
    "import numpy as np \n",
    "shape = (5,5)\n",
    "X = np.ones(shape)\n",
    "W = np.arange(25).reshape(shape)\n",
    "print(X.dot(W))\n",
    "print(X@W)\n",
    "print(np.multiply(X,W))\n"
   ]
  },
  {
   "cell_type": "code",
   "execution_count": 3,
   "metadata": {},
   "outputs": [
    {
     "data": {
      "text/plain": [
       "array([[ 0,  1,  2,  3,  4],\n",
       "       [ 5,  6,  7,  8,  9],\n",
       "       [10, 11, 12, 13, 14],\n",
       "       [15, 16, 17, 18, 19],\n",
       "       [20, 21, 22, 23, 24]])"
      ]
     },
     "execution_count": 3,
     "metadata": {},
     "output_type": "execute_result"
    }
   ],
   "source": [
    "W"
   ]
  }
 ],
 "metadata": {
  "kernelspec": {
   "display_name": "Python 3.9.15 64-bit",
   "language": "python",
   "name": "python3"
  },
  "language_info": {
   "codemirror_mode": {
    "name": "ipython",
    "version": 3
   },
   "file_extension": ".py",
   "mimetype": "text/x-python",
   "name": "python",
   "nbconvert_exporter": "python",
   "pygments_lexer": "ipython3",
   "version": "3.9.15"
  },
  "orig_nbformat": 4,
  "vscode": {
   "interpreter": {
    "hash": "949777d72b0d2535278d3dc13498b2535136f6dfe0678499012e853ee9abcab1"
   }
  }
 },
 "nbformat": 4,
 "nbformat_minor": 2
}
