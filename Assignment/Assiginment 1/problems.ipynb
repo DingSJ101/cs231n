{
 "cells": [
  {
   "cell_type": "markdown",
   "metadata": {},
   "source": [
    "运行环境 python 3.9.15"
   ]
  },
  {
   "cell_type": "markdown",
   "metadata": {},
   "source": [
    "Q:cannot import name ‘imread’ from ‘scipy.misc’  \n",
    "A:scipy已经将imread等命令删除，官方文档中有说明  \n",
    "修改`data_utils.py`中`from scipy.misc import imread`为`from imageio import imread`"
   ]
  },
  {
   "cell_type": "markdown",
   "metadata": {},
   "source": [
    "Q:![](https://cdn.jsdelivr.net/gh/DingSJ101/picgo_hub@master/img/20221017223323.png)  \n",
    "A:修改VSC的渲染器![](https://cdn.jsdelivr.net/gh/DingSJ101/picgo_hub@master/img/20221017223829.png)  "
   ]
  },
  {
   "cell_type": "markdown",
   "metadata": {},
   "source": [
    "Q:xrange()版本问题  \n",
    "R:python3中xrange()和range()合并为range()  \n",
    "A:way one : replace xrange with range  \n",
    "    way two : from six.moves import xrange"
   ]
  },
  {
   "cell_type": "markdown",
   "metadata": {},
   "source": [
    "Q :in features.ipynb, slice indices must be integers or None or have an __index__ method\n",
    "A :整除写法问题，修改features.py中代码为  \n",
    "`orientation_histogram[:,:,i] = uniform_filter(temp_mag, size=(cx, cy))[cx/2::cx, cy/2::cy].T`\n"
   ]
  }
 ],
 "metadata": {
  "kernelspec": {
   "display_name": "Python 3.9.15 64-bit",
   "language": "python",
   "name": "python3"
  },
  "language_info": {
   "name": "python",
   "version": "3.9.15"
  },
  "orig_nbformat": 4,
  "vscode": {
   "interpreter": {
    "hash": "949777d72b0d2535278d3dc13498b2535136f6dfe0678499012e853ee9abcab1"
   }
  }
 },
 "nbformat": 4,
 "nbformat_minor": 2
}
